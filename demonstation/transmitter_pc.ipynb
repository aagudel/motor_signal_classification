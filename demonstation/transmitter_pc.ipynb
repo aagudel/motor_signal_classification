{
 "cells": [
  {
   "cell_type": "markdown",
   "metadata": {},
   "source": [
    "# Fat-IBC transmission for bionic arm"
   ]
  },
  {
   "cell_type": "markdown",
   "metadata": {},
   "source": [
    "This notebook contains the fat intrabody communication (fat-IBC) wireless transmission part of the bionic arm project.\n",
    "\n",
    "We use Digi XBee radio modules which use the 802.15.4 protocol at an operating frequency of 2.45 GHz.\n",
    "The XBee radio modules have external antenna connectors (U.FL. or SMA) which allow us to use antennas designed for fat-IBC through a phantom model."
   ]
  },
  {
   "cell_type": "markdown",
   "metadata": {},
   "source": [
    "Import the modules necessary to produce widgets:"
   ]
  },
  {
   "cell_type": "code",
   "execution_count": 1,
   "metadata": {},
   "outputs": [],
   "source": [
    "from IPython.display import display\n",
    "import ipywidgets as widgets"
   ]
  },
  {
   "cell_type": "markdown",
   "metadata": {},
   "source": [
    "## 📲 Initialize the XBee radio module"
   ]
  },
  {
   "cell_type": "markdown",
   "metadata": {},
   "source": [
    "The XBee radio modules and your computer communicate via serial over USB. \n",
    "We propose that you have only a single XBee radio plugged in at a time when you apply the configuration profiles.\n",
    "\n",
    "> ℹ️ **NOTE:** Windows usually denotes the serial ports like `COMX`, where `X` will be an integer.\n",
    "Linux serial ports are usually called `/dev/ttyUSBX` or `/dev/ttyACMX` in a similar fashion.\n",
    "\n",
    "If you are unsure which serial port(s) are currently active on your computer, check the output of the following code:"
   ]
  },
  {
   "cell_type": "code",
   "execution_count": 2,
   "metadata": {},
   "outputs": [
    {
     "name": "stdout",
     "output_type": "stream",
     "text": [
      "COM3: Standard Serial over Bluetooth link (COM3) [BTHENUM\\{00001101-0000-1000-8000-00805F9B34FB}_LOCALMFG&0002\\7&62BB5F3&2&78A7EBAF44BC_C00000000]\n",
      "COM4: Standard Serial over Bluetooth link (COM4) [BTHENUM\\{00001101-0000-1000-8000-00805F9B34FB}_LOCALMFG&0000\\7&62BB5F3&2&000000000000_00000000]\n",
      "COM5: USB Serial Port (COM5) [USB VID:PID=0403:6015 SER=DN069WQRA]\n",
      "COM6: USB Serial Device (COM6) [USB VID:PID=2341:0043 SER=75735303631351804171 LOCATION=1-2]\n"
     ]
    }
   ],
   "source": [
    "import serial.tools.list_ports\n",
    "ports = serial.tools.list_ports.comports()\n",
    "\n",
    "for port, desc, hwid in sorted(ports):\n",
    "        print(\"{}: {} [{}]\".format(port, desc, hwid))"
   ]
  },
  {
   "cell_type": "markdown",
   "metadata": {},
   "source": [
    "Specify which serial port the XBee is connected to:"
   ]
  },
  {
   "cell_type": "code",
   "execution_count": 3,
   "metadata": {
    "scrolled": true
   },
   "outputs": [],
   "source": [
    "XBEE_PORT = 'COM5'"
   ]
  },
  {
   "cell_type": "markdown",
   "metadata": {},
   "source": [
    "Import the things we need from the XBee Python module and create an XBee device object with the serial port we defined earlier and a baud rate of 115200:"
   ]
  },
  {
   "cell_type": "code",
   "execution_count": 4,
   "metadata": {},
   "outputs": [],
   "source": [
    "from digi.xbee.devices import XBeeDevice\n",
    "\n",
    "xbee = XBeeDevice(XBEE_PORT, 115200)"
   ]
  },
  {
   "cell_type": "markdown",
   "metadata": {},
   "source": [
    "Open the connection to the XBee device:"
   ]
  },
  {
   "cell_type": "code",
   "execution_count": 5,
   "metadata": {
    "scrolled": true
   },
   "outputs": [],
   "source": [
    "xbee.open()"
   ]
  },
  {
   "cell_type": "markdown",
   "metadata": {},
   "source": [
    "Print the node name and MAC address of this XBee device:"
   ]
  },
  {
   "cell_type": "code",
   "execution_count": 6,
   "metadata": {},
   "outputs": [
    {
     "name": "stdout",
     "output_type": "stream",
     "text": [
      "Node ID: TRANSMITTER \t MAC: 0013A20041CB9200\n"
     ]
    }
   ],
   "source": [
    "print(\"Node ID: %s \\t MAC: %s\" % (xbee.get_node_id(), xbee.get_64bit_addr()) )"
   ]
  },
  {
   "cell_type": "markdown",
   "metadata": {},
   "source": [
    "Try to find the receiver/aggregator node on the network so we can send data to it later:"
   ]
  },
  {
   "cell_type": "code",
   "execution_count": 7,
   "metadata": {},
   "outputs": [],
   "source": [
    "from digi.xbee.devices import RemoteXBeeDevice, XBee64BitAddress        \n",
    "\n",
    "# Check the MAC address of your particular RX XBee!\n",
    "AGGREGATOR_MAC = \"0013A20041C14D4A\" # the MAC address is printed on the back of the XBee\n",
    "aggregator_xbee = RemoteXBeeDevice(xbee, XBee64BitAddress.from_hex_string(AGGREGATOR_MAC))     "
   ]
  },
  {
   "cell_type": "markdown",
   "metadata": {},
   "source": [
    "## ➡️ Construct payload from neural data"
   ]
  },
  {
   "cell_type": "markdown",
   "metadata": {},
   "source": [
    "Let us start by initializing an empty payload that we can populate with data:"
   ]
  },
  {
   "cell_type": "code",
   "execution_count": 8,
   "metadata": {},
   "outputs": [],
   "source": [
    "payload = bytearray()"
   ]
  },
  {
   "cell_type": "markdown",
   "metadata": {},
   "source": [
    "We want to use classified neural data to decide which payload to send."
   ]
  },
  {
   "cell_type": "code",
   "execution_count": 9,
   "metadata": {},
   "outputs": [],
   "source": [
    "#<CODE TO POPULATE PAYLOAD WITH DATA CORRESPONDING TO CHOSEN CLASS>"
   ]
  },
  {
   "cell_type": "markdown",
   "metadata": {},
   "source": [
    "## 📡 Send 802.15.4 packet with XBee radio module"
   ]
  },
  {
   "cell_type": "code",
   "execution_count": 10,
   "metadata": {},
   "outputs": [],
   "source": [
    "# tx_status = xbee.send_data(aggregator_xbee, bytearray([255] * 7))\n",
    "\n",
    "# print(tx_status)"
   ]
  },
  {
   "cell_type": "markdown",
   "metadata": {
    "tags": []
   },
   "source": [
    "## 🖱️ Test buttons"
   ]
  },
  {
   "cell_type": "markdown",
   "metadata": {},
   "source": [
    "Here are some buttons which may be useful when troubleshooting or for trying things out.\n",
    "\n",
    "Should we always rotate the wrist? \n",
    "Could keep it always at the same value, maybe that works better..."
   ]
  },
  {
   "cell_type": "code",
   "execution_count": 15,
   "metadata": {},
   "outputs": [],
   "source": [
    "from time import sleep"
   ]
  },
  {
   "cell_type": "code",
   "execution_count": 21,
   "metadata": {},
   "outputs": [
    {
     "data": {
      "text/plain": [
       "<digi.xbee.packets.raw.TXStatusPacket at 0x1729ce92bb0>"
      ]
     },
     "execution_count": 21,
     "metadata": {},
     "output_type": "execute_result"
    }
   ],
   "source": [
    "sleep(5)\n",
    "\n",
    "# close pinky\n",
    "xbee.send_data(aggregator_xbee, bytearray([0, 0, 0, 0, 255, 0, 0]))\n",
    "\n",
    "sleep(2)\n",
    "# close ring\n",
    "xbee.send_data(aggregator_xbee, bytearray([0, 0, 0, 255, 255, 0, 0]))\n",
    "\n",
    "sleep(2)\n",
    "# close rest\n",
    "xbee.send_data(aggregator_xbee, bytearray([255, 255, 255, 255, 255, 0, 0]))\n",
    "\n",
    "sleep(2)\n",
    "xbee.send_data(aggregator_xbee, bytearray([0, 0, 0, 255, 255, 0, 0]))\n",
    "\n",
    "sleep(2)\n",
    "xbee.send_data(aggregator_xbee, bytearray([0, 0, 0, 0, 255, 0, 0]))\n",
    "\n",
    "sleep(2)\n",
    "xbee.send_data(aggregator_xbee, bytearray([0]*7))"
   ]
  },
  {
   "cell_type": "code",
   "execution_count": 9,
   "metadata": {
    "tags": []
   },
   "outputs": [
    {
     "data": {
      "application/vnd.jupyter.widget-view+json": {
       "model_id": "d1322738e6cb439e871fb499e54af107",
       "version_major": 2,
       "version_minor": 0
      },
      "text/plain": [
       "Button(description='Set all 0', style=ButtonStyle())"
      ]
     },
     "metadata": {},
     "output_type": "display_data"
    },
    {
     "data": {
      "application/vnd.jupyter.widget-view+json": {
       "model_id": "aca2775ccd41429a8b4b09844664cce5",
       "version_major": 2,
       "version_minor": 0
      },
      "text/plain": [
       "Button(description='Set all 128', style=ButtonStyle())"
      ]
     },
     "metadata": {},
     "output_type": "display_data"
    },
    {
     "data": {
      "application/vnd.jupyter.widget-view+json": {
       "model_id": "7bc08d50fd704a709bdfd5434a7023b5",
       "version_major": 2,
       "version_minor": 0
      },
      "text/plain": [
       "Button(description='Set all 255', style=ButtonStyle())"
      ]
     },
     "metadata": {},
     "output_type": "display_data"
    }
   ],
   "source": [
    "def set_0(val):\n",
    "    xbee.send_data(aggregator_xbee, bytearray([0] * 7))\n",
    "\n",
    "def set_128(val):\n",
    "    xbee.send_data(aggregator_xbee, bytearray([128] * 7))\n",
    "    \n",
    "def set_255(val):\n",
    "    xbee.send_data(aggregator_xbee, bytearray([255] * 7))\n",
    "    \n",
    "set_all_0 = widgets.Button(description = 'Set all 0')   \n",
    "set_all_0.on_click(set_0)\n",
    "\n",
    "set_all_128 = widgets.Button(description = 'Set all 128')   \n",
    "set_all_128.on_click(set_128)\n",
    "\n",
    "set_all_255 = widgets.Button(description = 'Set all 255')   \n",
    "set_all_255.on_click(set_255)\n",
    "\n",
    "display(set_all_0)\n",
    "display(set_all_128)\n",
    "display(set_all_255)a"
   ]
  }
 ],
 "metadata": {
  "kernelspec": {
   "display_name": "Python 3",
   "language": "python",
   "name": "python3"
  },
  "language_info": {
   "codemirror_mode": {
    "name": "ipython",
    "version": 3
   },
   "file_extension": ".py",
   "mimetype": "text/x-python",
   "name": "python",
   "nbconvert_exporter": "python",
   "pygments_lexer": "ipython3",
   "version": "3.8.10"
  },
  "widgets": {
   "application/vnd.jupyter.widget-state+json": {
    "state": {
     "12e5a86dcaac4d8ab36b671fa57704b7": {
      "model_module": "@jupyter-widgets/controls",
      "model_module_version": "1.5.0",
      "model_name": "ButtonModel",
      "state": {
       "description": "Set all 128",
       "layout": "IPY_MODEL_bb845b6be15641baad561ccc66264c8a",
       "style": "IPY_MODEL_e3c49c8c84f34558b643dfaef3d42d95"
      }
     },
     "13cd3086fb6a47499c6c2eeb88f3198a": {
      "model_module": "@jupyter-widgets/controls",
      "model_module_version": "1.5.0",
      "model_name": "ButtonStyleModel",
      "state": {}
     },
     "403da1b1828547ad930b54a35045d52f": {
      "model_module": "@jupyter-widgets/controls",
      "model_module_version": "1.5.0",
      "model_name": "ButtonModel",
      "state": {
       "description": "Set all 0",
       "layout": "IPY_MODEL_c7b41f934fcd45f2a6a0be39a4a5530a",
       "style": "IPY_MODEL_5382785c87b6496ab6d5728162f380ae"
      }
     },
     "5382785c87b6496ab6d5728162f380ae": {
      "model_module": "@jupyter-widgets/controls",
      "model_module_version": "1.5.0",
      "model_name": "ButtonStyleModel",
      "state": {}
     },
     "ba2b4aeb89024b5583c59ea4d7ab4e2a": {
      "model_module": "@jupyter-widgets/base",
      "model_module_version": "1.2.0",
      "model_name": "LayoutModel",
      "state": {}
     },
     "bb845b6be15641baad561ccc66264c8a": {
      "model_module": "@jupyter-widgets/base",
      "model_module_version": "1.2.0",
      "model_name": "LayoutModel",
      "state": {}
     },
     "c7b41f934fcd45f2a6a0be39a4a5530a": {
      "model_module": "@jupyter-widgets/base",
      "model_module_version": "1.2.0",
      "model_name": "LayoutModel",
      "state": {}
     },
     "e3c49c8c84f34558b643dfaef3d42d95": {
      "model_module": "@jupyter-widgets/controls",
      "model_module_version": "1.5.0",
      "model_name": "ButtonStyleModel",
      "state": {}
     },
     "ef6919a1aa2c4bd28a39ccdb3f4758e3": {
      "model_module": "@jupyter-widgets/controls",
      "model_module_version": "1.5.0",
      "model_name": "ButtonModel",
      "state": {
       "description": "Set all 255",
       "layout": "IPY_MODEL_ba2b4aeb89024b5583c59ea4d7ab4e2a",
       "style": "IPY_MODEL_13cd3086fb6a47499c6c2eeb88f3198a"
      }
     }
    },
    "version_major": 2,
    "version_minor": 0
   }
  }
 },
 "nbformat": 4,
 "nbformat_minor": 4
}
