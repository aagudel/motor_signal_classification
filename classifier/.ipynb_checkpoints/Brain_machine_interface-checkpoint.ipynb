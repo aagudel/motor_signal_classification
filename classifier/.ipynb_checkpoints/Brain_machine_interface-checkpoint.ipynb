{
 "cells": [
  {
   "cell_type": "markdown",
   "metadata": {
    "collapsed": true,
    "pycharm": {
     "name": "#%% md\n"
    }
   },
   "source": [
    "## BMI for the bionic arm"
   ]
  },
  {
   "cell_type": "markdown",
   "metadata": {},
   "source": [
    "As a proof of concept we want to show that our bionic arm can replicate the actions performed by the monkey during a trial."
   ]
  },
  {
   "cell_type": "markdown",
   "metadata": {},
   "source": [
    "### Import"
   ]
  },
  {
   "cell_type": "code",
   "execution_count": 4,
   "metadata": {},
   "outputs": [],
   "source": [
    "import paho.mqtt.client as paho\n",
    "import numpy as np\n",
    "from time import sleep\n",
    "from datetime import datetime\n",
    "import json\n",
    "\n",
    "import os\n",
    "import sys\n",
    "module_path = os.path.abspath(os.path.join('..'))\n",
    "if module_path not in sys.path:\n",
    "    sys.path.append(module_path)"
   ]
  },
  {
   "cell_type": "markdown",
   "metadata": {},
   "source": [
    "### Parameters"
   ]
  },
  {
   "cell_type": "code",
   "execution_count": 5,
   "metadata": {
    "pycharm": {
     "name": "#%%\n"
    }
   },
   "outputs": [],
   "source": [
    "clientID = 'bmi'\n",
    "broker = 'localhost'\n",
    "port = 1883\n",
    "topic = 'brain_activity'"
   ]
  },
  {
   "cell_type": "markdown",
   "metadata": {},
   "source": [
    "### Script"
   ]
  },
  {
   "cell_type": "code",
   "execution_count": null,
   "metadata": {},
   "outputs": [],
   "source": [
    "# Initialize the publisher\n",
    "client = paho.Client(clientID, False)\n",
    "\n",
    "# Initialize buffer\n",
    "buffer = np.array([])\n",
    "\n",
    "# Initialize model\n",
    "#model = \n",
    "def myOnMessageReceived(paho_mqtt, userdata, msg):\n",
    "    if msg.topic == topic:\n",
    "        message = json.loads(msg.payload)\n",
    "        print(message)\n",
    "        buffer = np.hstack(buffer, message['value']['measurements'], axis=1)\n",
    "        #phase, obj = model.predict(buffer)\n",
    "        print(buffer.shape)\n",
    "        \n",
    "client.on_message = myOnMessageReceived"
   ]
  },
  {
   "cell_type": "code",
   "execution_count": null,
   "metadata": {},
   "outputs": [],
   "source": [
    "client.connect(broker, port)\n",
    "client.loop_start()\n",
    "client.subscribe(topic, 2)\n",
    "print('Simulation running...')\n",
    "while True:\n",
    "    try:\n",
    "        print(buffer.shaoe)\n",
    "        sleep(1)\n",
    "        \n",
    "    except KeyboardInterrupt:\n",
    "        print('Simulation interrupted')\n",
    "        client.unsubscribe(topic)\n",
    "        client.loop_stop()\n",
    "        client.disconnect()\n",
    "        sys.exit(0)"
   ]
  },
  {
   "cell_type": "code",
   "execution_count": null,
   "metadata": {},
   "outputs": [],
   "source": []
  }
 ],
 "metadata": {
  "kernelspec": {
   "display_name": "Python 3",
   "language": "python",
   "name": "python3"
  },
  "language_info": {
   "codemirror_mode": {
    "name": "ipython",
    "version": 3
   },
   "file_extension": ".py",
   "mimetype": "text/x-python",
   "name": "python",
   "nbconvert_exporter": "python",
   "pygments_lexer": "ipython3",
   "version": "3.8.10"
  }
 },
 "nbformat": 4,
 "nbformat_minor": 1
}
