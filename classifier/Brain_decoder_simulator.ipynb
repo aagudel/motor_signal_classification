{
 "cells": [
  {
   "cell_type": "markdown",
   "metadata": {
    "collapsed": true
   },
   "source": [
    "This script is meant to replicate the block that reading brain activity from neurons and processing it to provide the BMI with spike binned information."
   ]
  },
  {
   "cell_type": "markdown",
   "metadata": {},
   "source": [
    "### Imports"
   ]
  },
  {
   "cell_type": "code",
   "execution_count": 1,
   "metadata": {},
   "outputs": [],
   "source": [
    "import paho.mqtt.client as paho\n",
    "import numpy as np\n",
    "from time import sleep\n",
    "from datetime import datetime\n",
    "import json\n",
    "\n",
    "import os\n",
    "import sys\n",
    "module_path = os.path.abspath(os.path.join('..'))\n",
    "if module_path not in sys.path:\n",
    "    sys.path.append(module_path)"
   ]
  },
  {
   "cell_type": "code",
   "execution_count": 2,
   "metadata": {},
   "outputs": [],
   "source": [
    "import sys\n",
    "\n",
    "def progressbar(it, prefix=\"\", size=60, file=sys.stdout):\n",
    "    count = len(it)\n",
    "    def show(j):\n",
    "        x = int(size*j/count)\n",
    "        file.write(\"%s[%s%s] %i/%i\\r\" % (prefix, \"#\"*x, \".\"*(size-x), j, count))\n",
    "        file.flush()        \n",
    "    show(0)\n",
    "    for i, item in enumerate(it):\n",
    "        yield item\n",
    "        show(i+1)\n",
    "    file.write(\"\\n\")\n",
    "    file.flush()"
   ]
  },
  {
   "cell_type": "markdown",
   "metadata": {},
   "source": [
    "### Parameters"
   ]
  },
  {
   "cell_type": "code",
   "execution_count": 3,
   "metadata": {},
   "outputs": [],
   "source": [
    "clientID = 'brain_decoder'\n",
    "broker = 'localhost'\n",
    "port = 1883\n",
    "topic = 'brain_activity'"
   ]
  },
  {
   "cell_type": "markdown",
   "metadata": {},
   "source": [
    "### Script"
   ]
  },
  {
   "cell_type": "code",
   "execution_count": 4,
   "metadata": {},
   "outputs": [],
   "source": [
    "# Initialize the publisher\n",
    "client = paho.Client(clientID, False)"
   ]
  },
  {
   "cell_type": "code",
   "execution_count": 5,
   "metadata": {},
   "outputs": [],
   "source": [
    "# Load the testing samples\n",
    "# test_trials should be a dict {'box':[np.array with shape NCH, NBINS], 'ball':[], 'ring':[]} \n",
    "fake = np.load(f'temp/MRec40_go_X.npy')\n",
    "test_trials = {\n",
    "    'ball': fake[0],\n",
    "    'box': fake[1],\n",
    "    'ring': fake[2]\n",
    "              }"
   ]
  },
  {
   "cell_type": "code",
   "execution_count": null,
   "metadata": {},
   "outputs": [
    {
     "name": "stdout",
     "output_type": "stream",
     "text": [
      "Which trial to simulate?\n",
      " Box, ball, ring or exit:\tball\n",
      "Simulating: [############################################################] 15/15\n",
      "\n",
      "\n"
     ]
    }
   ],
   "source": [
    "# Start the script, waiting for user input (should be the test to perform)\n",
    "while True:\n",
    "    action = input('Which trial to simulate?\\n Box, ball, ring or exit:\\t')\n",
    "    action = action.strip().lower()\n",
    "    if action in ['exit', 'e']:\n",
    "        break\n",
    "        \n",
    "    if action not in ['box', 'ball', 'ring']:\n",
    "        print('Incorrect input')\n",
    "        continue\n",
    "        \n",
    "    # select the desired trial\n",
    "    trial = test_trials[action]\n",
    "    (channels, nbins) = trial.shape\n",
    "    \n",
    "    # start the client \n",
    "    client.connect(broker, port)\n",
    "    client.loop_start()\n",
    "    client.publish(topic, json.dumps({\"status\": \"starting_simulation\", \"shape\": channels}), 2)\n",
    "    \n",
    "    try:\n",
    "        for idx in progressbar(range(nbins), \"Simulating: \", 60):\n",
    "            time_bin = np.squeeze(trial[:, idx])\n",
    "            # Every 10ms prepare a new json with status and column of the test until finishing the trial \n",
    "            msg = json.dumps({\n",
    "                \"name\": \"Binned brain activity\",\n",
    "                \"description\": \"Recording from all the channels with datetime and simulation index\",\n",
    "                \"value\": {\n",
    "                    \"measurements\": time_bin.tolist(),\n",
    "                    \"datetime\": datetime.now().strftime('%Y-%m-%dT%H:%M:%S'),\n",
    "                    \"index\": idx\n",
    "                },\n",
    "                \"status\": \"running_simulation\"\n",
    "            })\n",
    "            client.publish(topic, msg, 2)\n",
    "            sleep(1)\n",
    "            sleep(0.01)\n",
    "            \n",
    "        client.publish(topic, json.dumps({\"status\": \"ending_simulation\"}), 2)\n",
    "        client.loop_stop()\n",
    "        client.disconnect()\n",
    "    \n",
    "    except KeyboardInterrupt:\n",
    "        print('Simulation interrupted')\n",
    "        client.loop_stop()\n",
    "        client.disconnect()\n",
    "        sys.exit(0)\n",
    "    \n",
    "    print('\\n')"
   ]
  },
  {
   "cell_type": "code",
   "execution_count": null,
   "metadata": {},
   "outputs": [],
   "source": []
  }
 ],
 "metadata": {
  "kernelspec": {
   "display_name": "Python 3",
   "language": "python",
   "name": "python3"
  },
  "language_info": {
   "codemirror_mode": {
    "name": "ipython",
    "version": 3
   },
   "file_extension": ".py",
   "mimetype": "text/x-python",
   "name": "python",
   "nbconvert_exporter": "python",
   "pygments_lexer": "ipython3",
   "version": "3.8.10"
  }
 },
 "nbformat": 4,
 "nbformat_minor": 1
}
