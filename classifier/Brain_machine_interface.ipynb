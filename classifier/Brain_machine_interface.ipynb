{
 "cells": [
  {
   "cell_type": "markdown",
   "metadata": {
    "collapsed": true,
    "pycharm": {
     "name": "#%% md\n"
    }
   },
   "source": [
    "## BMI for the bionic arm"
   ]
  },
  {
   "cell_type": "markdown",
   "metadata": {},
   "source": [
    "As a proof of concept we want to show that our bionic arm can replicate the actions performed by the monkey during a trial."
   ]
  },
  {
   "cell_type": "markdown",
   "metadata": {},
   "source": [
    "### Import"
   ]
  },
  {
   "cell_type": "code",
   "execution_count": 1,
   "metadata": {},
   "outputs": [],
   "source": [
    "import paho.mqtt.client as paho\n",
    "import numpy as np\n",
    "from time import sleep\n",
    "from datetime import datetime\n",
    "import json\n",
    "\n",
    "import os\n",
    "import sys\n",
    "module_path = os.path.abspath(os.path.join('..'))\n",
    "if module_path not in sys.path:\n",
    "    sys.path.append(module_path)"
   ]
  },
  {
   "cell_type": "markdown",
   "metadata": {},
   "source": [
    "### Parameters"
   ]
  },
  {
   "cell_type": "code",
   "execution_count": 2,
   "metadata": {
    "pycharm": {
     "name": "#%%\n"
    }
   },
   "outputs": [],
   "source": [
    "clientID = 'bmi'\n",
    "broker = 'localhost'\n",
    "port = 1883\n",
    "topic = 'brain_activity'"
   ]
  },
  {
   "cell_type": "markdown",
   "metadata": {},
   "source": [
    "### Script"
   ]
  },
  {
   "cell_type": "code",
   "execution_count": 3,
   "metadata": {},
   "outputs": [],
   "source": [
    "# Initialize the publisher\n",
    "client = paho.Client(clientID, False)\n",
    "\n",
    "# Initialize buffer\n",
    "global buffer\n",
    "buffer = None\n",
    "\n",
    "# Initialize model\n",
    "#model = \n",
    "def myOnMessageReceived(paho_mqtt, userdata, msg):\n",
    "    global buffer\n",
    "    if msg.topic == topic:\n",
    "        message = json.loads(msg.payload)\n",
    "        if message['status'] == 'starting_simulation':\n",
    "            print('Simulation started!')\n",
    "            buffer = np.empty((message['shape'],))\n",
    "            \n",
    "        elif message['status'] == 'running_simulation':\n",
    "            buffer = np.vstack((buffer, message['value']['measurements']))\n",
    "            #phase, obj = model.predict(buffer.T)\n",
    "            phase=0\n",
    "            obj=0\n",
    "            print(message['value']['index'], '# ', buffer.shape, phase, obj)\n",
    "        \n",
    "        elif message['status'] == 'ending_simulation':\n",
    "            print('Simulation terminated')\n",
    "            buffer = None\n",
    "            \n",
    "            \n",
    "        \n",
    "client.on_message = myOnMessageReceived"
   ]
  },
  {
   "cell_type": "code",
   "execution_count": null,
   "metadata": {
    "pycharm": {
     "name": "#%%\n"
    }
   },
   "outputs": [
    {
     "name": "stdout",
     "output_type": "stream",
     "text": [
      "Waiting for simulation...\n",
      "Simulation started!\n",
      "0 #  (2, 552) 0 0\n",
      "1 #  (3, 552) 0 0\n",
      "2 #  (4, 552) 0 0\n",
      "3 #  (5, 552) 0 0\n",
      "4 #  (6, 552) 0 0\n",
      "5 #  (7, 552) 0 0\n",
      "6 #  (8, 552) 0 0\n",
      "7 #  (9, 552) 0 0\n",
      "8 #  (10, 552) 0 0\n",
      "9 #  (11, 552) 0 0\n",
      "10 #  (12, 552) 0 0\n",
      "11 #  (13, 552) 0 0\n",
      "12 #  (14, 552) 0 0\n",
      "13 #  (15, 552) 0 0\n",
      "14 #  (16, 552) 0 0\n",
      "Simulation terminated\n"
     ]
    }
   ],
   "source": [
    "client.connect(broker, port)\n",
    "client.loop_start()\n",
    "client.subscribe(topic, 2)\n",
    "print('Waiting for simulation...')\n",
    "while True:\n",
    "    try:\n",
    "        sleep(1)\n",
    "        \n",
    "    except KeyboardInterrupt:\n",
    "        print('Simulation interrupted')\n",
    "        client.unsubscribe(topic)\n",
    "        client.loop_stop()\n",
    "        client.disconnect()\n",
    "        sys.exit(0)"
   ]
  },
  {
   "cell_type": "markdown",
   "metadata": {},
   "source": [
    "## 📲 Initialize the XBee radio module"
   ]
  },
  {
   "cell_type": "markdown",
   "metadata": {},
   "source": [
    "Specify which serial port the transmitting Xbee radio module is connected to:"
   ]
  },
  {
   "cell_type": "code",
   "execution_count": 4,
   "metadata": {
    "pycharm": {
     "name": "#%%\n"
    }
   },
   "outputs": [],
   "source": [
    "XBEE_PORT = 'COM5'"
   ]
  },
  {
   "cell_type": "markdown",
   "metadata": {},
   "source": [
    "> ℹ️ **NOTE:** On Linux, the port name of the XBee radio module (transmitter) will be\n",
    "   - `/dev/ttyACMX` when using e.g. Arduino + shield;\n",
    "   - `/dev/ttyUSBX` when using a dedicated USB interface."
   ]
  },
  {
   "cell_type": "markdown",
   "metadata": {},
   "source": [
    "Import the XBee modules and create an XBee device object with the serial port we defined earlier and a baud rate of 115200:"
   ]
  },
  {
   "cell_type": "code",
   "execution_count": 5,
   "metadata": {
    "pycharm": {
     "name": "#%%\n"
    }
   },
   "outputs": [],
   "source": [
    "from digi.xbee.devices import XBeeDevice, RemoteXBeeDevice, XBee64BitAddress\n",
    "\n",
    "xbee = XBeeDevice(XBEE_PORT, 115200)"
   ]
  },
  {
   "cell_type": "markdown",
   "metadata": {},
   "source": [
    "Open the connection to the XBee device:"
   ]
  },
  {
   "cell_type": "code",
   "execution_count": 6,
   "metadata": {
    "pycharm": {
     "name": "#%%\n"
    }
   },
   "outputs": [],
   "source": [
    "xbee.open()"
   ]
  },
  {
   "cell_type": "markdown",
   "metadata": {},
   "source": [
    "Print the node name and MAC address of this XBee device so we know we have the correct one:"
   ]
  },
  {
   "cell_type": "code",
   "execution_count": 7,
   "metadata": {
    "pycharm": {
     "name": "#%%\n"
    }
   },
   "outputs": [
    {
     "name": "stdout",
     "output_type": "stream",
     "text": [
      "Node ID: TRANSMITTER \t MAC: 0013A20041CB9200\n"
     ]
    }
   ],
   "source": [
    "print(\"Node ID: %s \\t MAC: %s\" % (xbee.get_node_id(), xbee.get_64bit_addr()) )"
   ]
  },
  {
   "cell_type": "markdown",
   "metadata": {},
   "source": [
    "Try to find the aggregator node on the network so we can send data to it later:"
   ]
  },
  {
   "cell_type": "code",
   "execution_count": 9,
   "metadata": {
    "pycharm": {
     "name": "#%%\n"
    }
   },
   "outputs": [],
   "source": [
    "#xbee_network = xbee.get_network()\n",
    "\n",
    "#aggregator_xbee = xbee_network.get_device_by_node_id(\"AGGREGATOR\")\n",
    "\n",
    "AGGREGATOR_MAC = \"0013A20041C14D4A\"\n",
    "aggregator_xbee = RemoteXBeeDevice(xbee, XBee64BitAddress.from_hex_string(AGGREGATOR_MAC))\n",
    "\n",
    "#if aggregator_xbee is None:\n",
    "#    raise ValueError('Aggregator node not found!')"
   ]
  },
  {
   "cell_type": "code",
   "execution_count": 10,
   "metadata": {
    "pycharm": {
     "name": "#%%\n"
    }
   },
   "outputs": [],
   "source": [
    "#import struct\n",
    "\n",
    "payload = bytearray([0, 1, 2, 255])\n",
    "\n",
    "#payload.extend(bytearray(struct.pack(\"f\", resonance_freq)))\n",
    "#payload.extend(bytearray(struct.pack(\"f\", resonance_ampl))) \n"
   ]
  },
  {
   "cell_type": "markdown",
   "metadata": {},
   "source": [
    "Let us print the payload as hexadecimal values.\n",
    "The first four values correspond to the resonance frequency and the last four correspond to the resonance amplitude."
   ]
  },
  {
   "cell_type": "code",
   "execution_count": 11,
   "metadata": {
    "pycharm": {
     "name": "#%%\n"
    }
   },
   "outputs": [
    {
     "name": "stdout",
     "output_type": "stream",
     "text": [
      "['0x00', '0x01', '0x02', '0xff']\n"
     ]
    }
   ],
   "source": [
    "print([ \"0x%02x\" % b for b in payload ])"
   ]
  },
  {
   "cell_type": "markdown",
   "metadata": {},
   "source": [
    "## 📡 Transmit 802.15.4 packet with XBee radio module"
   ]
  },
  {
   "cell_type": "markdown",
   "metadata": {},
   "source": [
    "Send the payload that we defined earlier to the aggregator/receiving XBee:"
   ]
  },
  {
   "cell_type": "code",
   "execution_count": 12,
   "metadata": {
    "pycharm": {
     "name": "#%%\n"
    }
   },
   "outputs": [
    {
     "name": "stdout",
     "output_type": "stream",
     "text": [
      "{<DictKeys.HEADER_BYTE: 'header'>: 126, <DictKeys.LENGTH: 'length'>: 3, <DictKeys.FRAME_SPEC_DATA: 'fr_spec_data'>: {<DictKeys.FRAME_TYPE: 'fr_type'>: <ApiFrameType.TX_STATUS: (137, 'TX (Transmit) Status')>, <DictKeys.FRAME_ID: 'fr_id'>: 9, <DictKeys.API_DATA: 'api_spec_data'>: {<DictKeys.TS_STATUS: 'ts_status'>: <TransmitStatus.SUCCESS: (0, 'Success.')>}}, <DictKeys.CHECKSUM: 'checksum'>: 109}\n"
     ]
    }
   ],
   "source": [
    "tx_status = xbee.send_data(aggregator_xbee, payload)\n",
    "\n",
    "print(tx_status)\n"
   ]
  },
  {
   "cell_type": "code",
   "execution_count": null,
   "metadata": {},
   "outputs": [],
   "source": [
    "# 5 fingers + wrist + elbow + approaching\n",
    "actuator_dict = {\n",
    "    \"ball\":[175,175,175,175,175, 80, 255, X],\n",
    "}\n",
    "\n",
    "payload = bytearray(actuator_dict[pred]+)\n",
    "\n"
   ]
  }
 ],
 "metadata": {
  "kernelspec": {
   "display_name": "Python 3",
   "language": "python",
   "name": "python3"
  },
  "language_info": {
   "codemirror_mode": {
    "name": "ipython",
    "version": 3
   },
   "file_extension": ".py",
   "mimetype": "text/x-python",
   "name": "python",
   "nbconvert_exporter": "python",
   "pygments_lexer": "ipython3",
   "version": "3.8.10"
  }
 },
 "nbformat": 4,
 "nbformat_minor": 1
}