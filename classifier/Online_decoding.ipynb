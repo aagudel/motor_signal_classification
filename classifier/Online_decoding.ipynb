{
 "cells": [
  {
   "cell_type": "markdown",
   "metadata": {
    "collapsed": true
   },
   "source": [
    "## BMI for the bionic arm"
   ]
  },
  {
   "cell_type": "markdown",
   "metadata": {},
   "source": [
    "As a proof of concept we want to show that our bionic arm can replicate the actions performed by the monkey during a trial."
   ]
  },
  {
   "cell_type": "markdown",
   "metadata": {},
   "source": [
    "### Imports"
   ]
  },
  {
   "cell_type": "code",
   "execution_count": 2,
   "metadata": {},
   "outputs": [],
   "source": [
    "#Adding working directory to python path\n",
    "import os\n",
    "os.environ['TF_CPP_MIN_LOG_LEVEL'] = '3'  # or any {'0', '1', '2'}\n",
    "import sys\n",
    "module_path = os.path.abspath(os.path.join('..'))\n",
    "if module_path not in sys.path:\n",
    "    sys.path.append(module_path)"
   ]
  },
  {
   "cell_type": "code",
   "execution_count": 5,
   "metadata": {},
   "outputs": [],
   "source": [
    "from neo.io.neomatlabio import NeoMatlabIO\n",
    "from elephant.conversion import BinnedSpikeTrain\n",
    "from quantities import millisecond\n",
    "\n",
    "#Import function to laod and process dataset\n",
    "from utils.data_processing import * \n",
    "from sklearn.preprocessing import LabelEncoder"
   ]
  },
  {
   "cell_type": "markdown",
   "metadata": {},
   "source": [
    "### Parameters"
   ]
  },
  {
   "cell_type": "code",
   "execution_count": 6,
   "metadata": {},
   "outputs": [],
   "source": [
    "FILE = 'MREC40'  # MRec40, ZRec50 or ZRec50_Mini\n",
    "PATH = f'../data/Objects Task DL Project/{FILE}.neo.mat' \n",
    "EPOCH = 'all'\n",
    "\n",
    "selector = ObjectSelector()\n",
    "new_classes = selector.get_shapes(['balls', 'boxes', 'rings'], group_labels=True)"
   ]
  },
  {
   "cell_type": "markdown",
   "metadata": {},
   "source": [
    "### Loading Data"
   ]
  },
  {
   "cell_type": "code",
   "execution_count": 7,
   "metadata": {},
   "outputs": [],
   "source": [
    "r = NeoMatlabIO(filename=PATH)\n",
    "blk = r.read_block()"
   ]
  },
  {
   "cell_type": "code",
   "execution_count": null,
   "metadata": {},
   "outputs": [],
   "source": [
    "tasts = []\n",
    "for i, seg in enumerate(blk.segments):\n",
    "    # Every run performed by the monkey is checked, and if it is not correct it is ignored\n",
    "    if seg.annotations['correct'] == 0:\n",
    "        continue\n",
    "    evt = seg.events[0]\n",
    "    labels = [str(lab).strip().lower() for lab in evt.labels]\n",
    "    sparse_array = BinnedSpikeTrain(spk, t_start=evt[0], bin_size=10 * millisecond, t_stop=evt[-1l])\n",
    "    tasks.append(sparse_array.to_array().astype('float32'))"
   ]
  }
 ],
 "metadata": {
  "kernelspec": {
   "display_name": "Python 3",
   "language": "python",
   "name": "python3"
  },
  "language_info": {
   "codemirror_mode": {
    "name": "ipython",
    "version": 3
   },
   "file_extension": ".py",
   "mimetype": "text/x-python",
   "name": "python",
   "nbconvert_exporter": "python",
   "pygments_lexer": "ipython3",
   "version": "3.8.10"
  }
 },
 "nbformat": 4,
 "nbformat_minor": 1
}
