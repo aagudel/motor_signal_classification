{
 "cells": [
  {
   "cell_type": "markdown",
   "id": "b4d5d227-bf56-4433-a9d7-56ec41b0807d",
   "metadata": {
    "pycharm": {
     "name": "#%% md\n"
    }
   },
   "source": [
    "## BMI for the bionic arm"
   ]
  },
  {
   "cell_type": "markdown",
   "id": "2c9f2169-5a03-4c02-aa11-b86b573eddc1",
   "metadata": {},
   "source": [
    "As a proof of concept we want to show that our bionic arm can replicate the actions performed by the monkey during a trial."
   ]
  },
  {
   "cell_type": "markdown",
   "id": "fb213a79-4d7b-4f12-8e70-b59abbb3f478",
   "metadata": {
    "tags": []
   },
   "source": [
    "### Import"
   ]
  },
  {
   "cell_type": "code",
   "execution_count": 1,
   "id": "af443da6-b0da-44bb-9ff7-bdda6c224dfc",
   "metadata": {
    "tags": []
   },
   "outputs": [],
   "source": [
    "import numpy as np\n",
    "from time import sleep, time\n",
    "import _thread\n",
    "from statistics import mode\n",
    "\n",
    "from IPython.display import display, Markdown, clear_output\n",
    "# widget packages\n",
    "import ipywidgets as widgets\n",
    "from sklearn.metrics import accuracy_score\n",
    "\n",
    "#Import graphics\n",
    "import matplotlib.pyplot as plt\n",
    "import matplotlib.gridspec as gridspec\n",
    "%matplotlib inline\n",
    "import seaborn as sns\n",
    "import matplotlib.patches as patches\n",
    "from matplotlib.animation import FuncAnimation, writers\n",
    "%matplotlib inline\n",
    "\n",
    "from sklearn.preprocessing import LabelEncoder\n",
    "from tensorflow.keras.models import load_model\n",
    "import pickle as pkl\n",
    "\n",
    "import os\n",
    "import sys\n",
    "module_path = os.path.abspath(os.path.join('..'))\n",
    "if module_path not in sys.path:\n",
    "    sys.path.append(module_path)\n",
    "    \n",
    "from utils.functions import *"
   ]
  },
  {
   "cell_type": "code",
   "execution_count": 2,
   "id": "dfa90c95",
   "metadata": {},
   "outputs": [],
   "source": [
    "# Plotting function\n",
    "def display_testing_phase_results(conf_matrix, my_labels, errors_distribution, y_test, network_name='network', separators=False, annotate_matrix=True, save=True):\n",
    "    n_outputs = len(my_labels)\n",
    "    fig = plt.figure(figsize=(14, 9))\n",
    "    fig.suptitle(f'Performances of {network_name} testing', fontsize=16)\n",
    "    gs = gridspec.GridSpec(nrows=3, ncols=3)\n",
    "\n",
    "    ax1 = fig.add_subplot(gs[:, :-1])\n",
    "    ax1.set_title('Confusion matrix', fontsize=14)\n",
    "    conf_matrix_norm = normalize(conf_matrix, axis=1, norm='l1')\n",
    "    im = ax1.imshow(conf_matrix_norm, cmap=sns.cubehelix_palette(as_cmap=True, light=.98, gamma=0.75), vmin=0, vmax=1)\n",
    "\n",
    "    ax1.vlines([i + 0.5 for i in range(n_outputs)], -0.5, n_outputs - 0.5, linewidth=2, colors='White')\n",
    "    ax1.hlines([i + 0.5 for i in range(n_outputs)], -0.5, n_outputs - 0.5, linewidth=2, colors='White')\n",
    "    plt.colorbar(im, fraction=0.046, pad=0.04)\n",
    "    if annotate_matrix:\n",
    "        rows, columns = conf_matrix.shape\n",
    "        for i in range(rows):\n",
    "            for j in range(columns):\n",
    "                c = int(conf_matrix[i][j]) if conf_matrix[i][j].is_integer() else conf_matrix[i][j]\n",
    "                if c > 0:\n",
    "                    color = 'White' if conf_matrix_norm[i][j]>=.65 else 'Black'\n",
    "                    ax1.text(j, i, str(round(c,0)), va='center', ha='center', c=color, fontsize=12)\n",
    "    ax1.set_xticks(list(range(n_outputs)))\n",
    "    ax1.set_yticks(list(range(n_outputs)))\n",
    "    ax1.set_xticklabels(my_labels)\n",
    "    ax1.set_yticklabels(my_labels)\n",
    "    ax1.set_ylabel('true value', fontsize=12)\n",
    "    ax1.set_xlabel('prediction', fontsize=12)\n",
    "    if separators:\n",
    "        seps = []\n",
    "        past_label = my_labels[0]\n",
    "        for i, l in enumerate(my_labels):\n",
    "            l = str(l)\n",
    "            if len(l) == 1 or l[0] != past_label:\n",
    "                seps.append(i - 0.5)\n",
    "            past_label = l[0]\n",
    "        ax1.vlines(seps, -0.5, n_outputs - 0.5, linewidth=1, color='k')\n",
    "        ax1.hlines(seps, -0.5, n_outputs - 0.5, linewidth=1, color='k')\n",
    "\n",
    "    ax2 = fig.add_subplot(gs[0, -1])\n",
    "    ax2.set_title('Distance from the diagonal', fontsize=14)\n",
    "    x = list(errors_distribution.keys())\n",
    "    x.sort()\n",
    "    y = [errors_distribution[distance] for distance in x]\n",
    "    ax2.step(x, y, where='mid', c='midnightblue')\n",
    "    ax2.axvspan(-1.5, 1.5, alpha=0.4, color='palevioletred')\n",
    "    x_max = min(max(list(errors_distribution.keys())), 10)\n",
    "    lim = x_max if x_max%2 == 0 else x_max-1\n",
    "    lim = min(lim, 10)\n",
    "    ax2.set_xticks(list(range(-lim, lim+2, 2)))\n",
    "    ax2.set_xlim(-x_max, x_max)\n",
    "    ax2.set_yscale('log')\n",
    "    ax2.set_ylabel('n errors', fontsize=12)\n",
    "    ax2.set_xlabel('distance', fontsize=12, y=-10)\n",
    "    \n",
    "    e0 = errors_distribution[0]\n",
    "    e1 = errors_distribution[1]+errors_distribution[-1]\n",
    "    \n",
    "    ax3 = fig.add_subplot(gs[1, -1])\n",
    "    ax3.axis('off')\n",
    "    ax3.text(0,0.9,f'Distance 0: {round(e0, 3)} [{round(e0/len(y_test)*100, 1)}%]', fontsize=11.5)\n",
    "    ax3.text(0,0.8,f'Distance ±1: {round(e0+e1, 3)} [{round((e0+e1)/len(y_test)*100, 1)}%]', fontsize=11.5)\n",
    "\n",
    "\n",
    "    plt.tight_layout(rect=[0, 0, 1, 0.96], pad=3.0)\n",
    "    if save:\n",
    "        fig.savefig(f'{PLOTS_FOLDER}/{network_name.replace(\" \", \"_\")}_testing_results.png')\n",
    "    plt.show()\n"
   ]
  },
  {
   "cell_type": "code",
   "execution_count": 3,
   "id": "dbbe87bb-cacf-4f1a-9dd9-6d35f557e787",
   "metadata": {},
   "outputs": [],
   "source": [
    "WINDOW = 10\n",
    "PATIENCE = 5"
   ]
  },
  {
   "cell_type": "code",
   "execution_count": 4,
   "id": "d91ed93f-603f-4efd-af47-8504f661eba6",
   "metadata": {},
   "outputs": [],
   "source": [
    "test_trials = pkl.load(open(f'../data/online/test_dict_{WINDOW}.pkl', 'rb'))"
   ]
  },
  {
   "cell_type": "code",
   "execution_count": 5,
   "id": "831ff092-1213-4b1d-8a61-2fb9bedb1de4",
   "metadata": {},
   "outputs": [
    {
     "data": {
      "text/plain": [
       "array([0, 1, 2, 3, 4, 5], dtype=int64)"
      ]
     },
     "execution_count": 5,
     "metadata": {},
     "output_type": "execute_result"
    }
   ],
   "source": [
    "# Initialize model\n",
    "state_model = load_model(f'../results/online/state_decoder_{WINDOW}.h5')\n",
    "shape_model = load_model(f'../results/online/shape_decoder_{WINDOW}.h5')\n",
    "size_model = load_model(f'../results/online/size_decoder_{WINDOW}.h5')\n",
    "\n",
    "state_encoder = LabelEncoder()\n",
    "state_encoder.fit_transform(np.load('../results/online/state_encoding.npy'))\n",
    "shape_encoder = LabelEncoder()\n",
    "shape_encoder.fit_transform(np.load('../results/online/shape_encoding.npy'))\n",
    "size_encoder = LabelEncoder()\n",
    "size_encoder.fit_transform(np.load('../results/online/size_encoding.npy'))"
   ]
  },
  {
   "cell_type": "markdown",
   "id": "5c1da374-3c6b-4fea-9404-39b805660ec7",
   "metadata": {},
   "source": [
    "# SIMULATION"
   ]
  },
  {
   "cell_type": "code",
   "execution_count": 6,
   "id": "89b67244-2f72-43f6-9be4-2d374e47db1d",
   "metadata": {},
   "outputs": [],
   "source": [
    "# Global variables\n",
    "[state_xmin, state_xmax] = np.load('../results/online/windows_state_min_max.npy')\n",
    "[shape_xmin, shape_xmax] = np.load('../results/online/windows_shape_min_max.npy')\n",
    "[size_xmin, size_xmax] = np.load('../results/online/windows_size_min_max.npy')\n",
    "figures = []\n",
    "pred_states = []\n",
    "pred_shapes = []\n",
    "pred_sizes = []"
   ]
  },
  {
   "cell_type": "code",
   "execution_count": 7,
   "id": "54bdd63a-08e7-43d9-874e-009926de6d32",
   "metadata": {},
   "outputs": [],
   "source": [
    "# Functions\n",
    "def predict_state(window):\n",
    "    global state_xmin, state_xmax, state_model, pred_states\n",
    "    window = (window - state_xmin) / (state_xmax - state_xmin)\n",
    "    pred = state_model.predict(window)\n",
    "    pred_states.append(pred.argmax())\n",
    "    \n",
    "def predict_shape(window):\n",
    "    global shape_xmin, shape_xmax, shape_model, pred_shapes\n",
    "    window = (window - shape_xmin) / (shape_xmax - shape_xmin)\n",
    "    pred = shape_model.predict(window)\n",
    "    pred_shapes.append(pred.argmax())\n",
    "    \n",
    "def predict_size(window):\n",
    "    global size_xmin, size_xmax, size_model, pred_sizes\n",
    "    window = (window - size_xmin) / (size_xmax - size_xmin)\n",
    "    pred = size_model.predict(window)\n",
    "    pred_sizes.append(pred.argmax())\n",
    "    \n",
    "def draw_figure(index, avg_activations, boundaries):\n",
    "    global figures\n",
    "    width = WINDOW-1 if index >= WINDOW else index\n",
    "    nbins = len(avg_activations)\n",
    "    # Create figure and axes\n",
    "    fig, ax = plt.subplots(figsize=(20,5))\n",
    "\n",
    "    # Display the image    \n",
    "    pre_line = avg_activations[:index-width]\n",
    "    if not pre_line:\n",
    "        pre_line = [avg_activations[0]]\n",
    "    if index >= WINDOW:\n",
    "        pre_line.append(pre_line[-1])\n",
    "        pre_line_x = list(range(nbins))[:index-width]\n",
    "        pre_line_x.append(pre_line_x[-1]+.5)\n",
    "        ax.step(pre_line_x, pre_line, where='post', color='#1f77b4', alpha=0.5) # before filter\n",
    "\n",
    "\n",
    "    red_line = avg_activations[index-width:index+1]\n",
    "    red_line_x = list(range(nbins))[index-width:index+1]\n",
    "    if index >= WINDOW:\n",
    "        red_line.insert(0, pre_line[-1])\n",
    "        red_line_x.insert(0, red_line_x[0]-.5)\n",
    "\n",
    "    red_line.append(red_line[-1])      \n",
    "    red_line_x.append(red_line_x[-1]+.5)\n",
    "    ax.step(red_line_x, red_line, where='post', color='r', alpha=0.9) # under filter\n",
    "\n",
    "    if index != nbins-1:\n",
    "        post_line = avg_activations[index+1:]\n",
    "        post_line_x = list(range(nbins))[index+1:]\n",
    "        post_line.insert(0, red_line[-1])\n",
    "        post_line_x.insert(0, post_line_x[0]-.5)\n",
    "        ax.step(post_line_x, post_line, where='post', color='#1f77b4') # after filter\n",
    "\n",
    "    # Create a Rectangle patch\n",
    "    rect_border = patches.Rectangle((index-width-.5, 0), width+1, boundaries[1]*1.15, linewidth=1, edgecolor='r', facecolor='none')\n",
    "    rect = patches.Rectangle((index-width-.5, 0), width+1, boundaries[1]*1.15, linewidth=1, edgecolor='none', facecolor='y', alpha=0.1)\n",
    "    \n",
    "    # Add the patch to the Axes\n",
    "    ax.add_patch(rect)\n",
    "    ax.add_patch(rect_border)\n",
    "\n",
    "    plt.xlim(-2, len(avg_activations)+2)\n",
    "    figures.append(fig)\n",
    "    \n",
    "def show_figure():\n",
    "    global figures\n",
    "    sleep(.5)\n",
    "    clear_output()\n",
    "    fig = figures[-1]\n",
    "    plt.show()\n",
    "    \n"
   ]
  },
  {
   "cell_type": "code",
   "execution_count": 11,
   "id": "fb48d218-cbda-464d-9489-6e8404466681",
   "metadata": {},
   "outputs": [
    {
     "name": "stdout",
     "output_type": "stream",
     "text": [
      "\u001b[1;36m  File \u001b[1;32m\"C:/Users/feder/AppData/Local/Temp/xpython_5632/887212605.py\"\u001b[1;36m, line \u001b[1;32m61\u001b[0m\n",
      "\u001b[1;33m    print(f'[{index}] - '\u001b[0m\n",
      "\u001b[1;37m    ^\u001b[0m\n",
      "\u001b[1;31mSyntaxError\u001b[0m\u001b[1;31m:\u001b[0m invalid syntax\n",
      "\n"
     ]
    }
   ],
   "source": [
    "out = widgets.Output()\n",
    "\n",
    "def start_simulation(b):\n",
    "    global figures, pred_states, pred_shapes, pred_sizes\n",
    "    figures.clear()\n",
    "    pred_states.clear()\n",
    "    pred_shapes.clear()\n",
    "    pred_sizes.clear()\n",
    "    \n",
    "    with out:\n",
    "        action = b.description\n",
    "        \n",
    "        # select the desired trial\n",
    "        trial = test_trials[action]['trial']#[:, 80:100]\n",
    "        (channels, nbins) = trial.shape\n",
    " \n",
    "        trial_state = [x.strip() for x in test_trials[action]['states']]\n",
    "        obj_shape = test_trials[action]['obj_shape']\n",
    "        obj_size = test_trials[action]['obj_size']\n",
    "        \n",
    "        phase_dict = {\n",
    "            'Waiting': np.where(np.isin(trial_state, ['Start', 'Rest', 'Motor', 'FixLOn', 'Fix']))[0],\n",
    "            'Cue': np.where(np.isin(trial_state, ['Cue']))[0],\n",
    "            'Planning': np.where(np.isin(trial_state, ['Mem']))[0],\n",
    "            'Movement': np.where(np.isin(trial_state, ['React', 'Go']))[0],\n",
    "            'Hold': np.where(np.isin(trial_state, ['Hold', 'Rew']))[0],\n",
    "            'End': np.where(np.isin(trial_state, ['Intert', 'End']))[0]\n",
    "        }\n",
    "\n",
    "        new_states = ['Waiting', 'Cue', 'Planning', 'Movement', 'Hold', 'End']\n",
    "        for phase in new_states: #important to read them in chronological order\n",
    "            phase_idx = phase_dict[phase]\n",
    "            for idx in phase_idx:\n",
    "                trial_state[idx] = phase\n",
    "                \n",
    "        avg_activations = [channels.mean() for channels in trial.T]\n",
    "        boundaries = (min(avg_activations), max(avg_activations))\n",
    "        \n",
    "        print(f'Simulating {obj_shape} {obj_size}..')\n",
    "        results = []\n",
    "        for index in range(0, nbins-1, 1):\n",
    "            start_t = time()\n",
    "            _thread.start_new_thread(draw_figure, (index, avg_activations, boundaries))\n",
    "            \n",
    "            window = trial[np.newaxis, :, max(0, index-0):index+1]\n",
    "            _thread.start_new_thread(predict_state, (window,))\n",
    "            _thread.start_new_thread(predict_shape, (window,))\n",
    "            _thread.start_new_thread(predict_size, (window,))\n",
    "            #_thread.start_new_thread(show_figure, ())\n",
    "            \n",
    "            sleep(0.5 - 0.1)\n",
    "            clear_output()\n",
    "            print(f'Simulating {obj_shape} {obj_size}..')\n",
    "            fig = figures[-1]\n",
    "            plt.show()\n",
    "            try:\n",
    "                r1 = state_encoder.classes_[mode(pred_states[max(-PATIENCE, -len(pred_states)):])]\n",
    "                r2 = shape_encoder.classes_[mode(pred_shapes[max(-PATIENCE, -len(pred_states)):])]\n",
    "                r3 = size_encoder.classes_[mode(pred_sizes[max(-PATIENCE, -len(pred_states)):])]\n",
    "                results.append((r1, r2, r3))\n",
    "            print(f'[{index}] - '\n",
    "                  f'Next state: {r1}; '\n",
    "                  f'Shape: {r2}; '\n",
    "                  f'Size: {r3} -- {round(time()-start_t, 3)}s')\n",
    "            \n",
    "        temp = np.array(results)\n",
    "        print(f'Accuracy score -- State: {accuracy_score(trial_state[1:], temp[:, 0])};  Shape: {accuracy_score([obj_shape]*temp.shape[0], temp[:, 1])};  Size: {accuracy_score([obj_size]*temp.shape[0], temp[:, 2])}')\n",
    "        \n",
    "        # Metrics\n",
    "        conf_matrix, my_labels = my_confusion_matrix(temp[:, 0], trial_state[1:], labels=new_states, return_labels=True)\n",
    "        errors_distribution = distance_from_diagonal(conf_matrix)\n",
    "\n",
    "        # Displaying\n",
    "        display_testing_phase_results(conf_matrix, my_labels, errors_distribution, trial_state, f'states decoder', save=False)\n",
    "        \n",
    "        # Metrics\n",
    "        conf_matrix, my_labels = my_confusion_matrix(temp[:, 1], [obj_shape]*temp.shape[0], labels=shape_encoder.classes_, return_labels=True)\n",
    "        errors_distribution = distance_from_diagonal(conf_matrix)\n",
    "\n",
    "        # Displaying\n",
    "        display_testing_phase_results(conf_matrix, my_labels, errors_distribution, trial_state, f'shape decoder', save=False)\n",
    "        \n",
    "        # Metrics\n",
    "        conf_matrix, my_labels = my_confusion_matrix(temp[:, 2], [obj_size]*temp.shape[0], labels=size_encoder.classes_, return_labels=True)\n",
    "        errors_distribution = distance_from_diagonal(conf_matrix)\n",
    "\n",
    "        # Displaying\n",
    "        display_testing_phase_results(conf_matrix, my_labels, errors_distribution, trial_state, f'size decoder', save=False)"
   ]
  },
  {
   "cell_type": "code",
   "execution_count": 12,
   "id": "df89a386-5045-47ca-8a23-bed28bca1ef9",
   "metadata": {},
   "outputs": [
    {
     "name": "stdout",
     "output_type": "stream",
     "text": [
      "Select a simulation to start..\n"
     ]
    },
    {
     "data": {
      "application/vnd.jupyter.widget-view+json": {
       "model_id": "cbddc3c3f9e842dd826077ce4b904e02",
       "version_major": 2,
       "version_minor": 0
      },
      "text/plain": [
       "VBox(children=(HBox(children=(Button(description='rings', style=ButtonStyle()), Button(description='cubes', st…"
      ]
     },
     "metadata": {},
     "output_type": "display_data"
    }
   ],
   "source": [
    "b_ring = widgets.Button(description='rings')\n",
    "b_cube = widgets.Button(description='cubes')\n",
    "b_ball = widgets.Button(description='balls')\n",
    "b_hCylinder = widgets.Button(description='hCylinder')\n",
    "b_box = widgets.Button(description='boxes')\n",
    "b_vCylinder = widgets.Button(description='vCylinder')\n",
    "\n",
    "b_ring.on_click(start_simulation)\n",
    "b_cube.on_click(start_simulation)\n",
    "b_ball.on_click(start_simulation)\n",
    "b_hCylinder.on_click(start_simulation)\n",
    "b_box.on_click(start_simulation)\n",
    "b_vCylinder.on_click(start_simulation)\n",
    "\n",
    "# displaying button and its output together\n",
    "print('Select a simulation to start..')\n",
    "widgets.VBox([widgets.HBox([b_ring, b_cube, b_ball, b_hCylinder, b_box, b_vCylinder]), out])"
   ]
  },
  {
   "cell_type": "code",
   "execution_count": 13,
   "id": "3fe2eb55-a398-417e-b8db-901f170b1525",
   "metadata": {},
   "outputs": [],
   "source": [
    " def sliding_window(my_window, my_states, my_shape, my_size, w_size=10):\n",
    "        p_window = []\n",
    "        next_state = []\n",
    "        shape = []\n",
    "        size = []\n",
    "        (n_channels, n_steps) = my_window.shape\n",
    "        for time_step in range(n_steps):\n",
    "            if time_step < w_size-1:\n",
    "                sliced_window = np.zeros((n_channels, w_size-time_step-1))\n",
    "                sliced_window = np.hstack((sliced_window, my_window[:, :time_step+1]))\n",
    "            else:\n",
    "                sliced_window = my_window[:, time_step-w_size+1:time_step+1]\n",
    "                \n",
    "            p_window.append(sliced_window.astype('float32'))\n",
    "            if time_step == n_steps-1:\n",
    "                next_state.append('End')\n",
    "            else:\n",
    "                next_state.append(my_states[time_step+1].strip())\n",
    "            shape.append(my_shape)\n",
    "            size.append(my_size)\n",
    "\n",
    "        return np.array(p_window, dtype='float32'), next_state, shape, size"
   ]
  },
  {
   "cell_type": "code",
   "execution_count": 14,
   "id": "299932ee-49be-41cd-8f18-cfbd4d8c72f0",
   "metadata": {},
   "outputs": [
    {
     "name": "stdout",
     "output_type": "stream",
     "text": [
      "balls 2\n"
     ]
    }
   ],
   "source": [
    "action = 'balls'\n",
    "p_window, trial_state, obj_shape, obj_size = sliding_window(test_trials[action]['trial'], test_trials[action]['states'], test_trials[action]['obj_shape'], test_trials[action]['obj_size'])\n",
    "#trial_state = np.array(trial_state)\n",
    "obj_shape = np.array(obj_shape)\n",
    "obj_size = np.array(obj_size)\n",
    "print(obj_shape[0], obj_size[0])\n",
    "\n",
    "phase_dict = {\n",
    "    'Waiting': np.where(np.isin(trial_state, ['Start', 'Rest', 'Motor', 'FixLOn', 'Fix']))[0],\n",
    "    'Cue': np.where(np.isin(trial_state, ['Cue']))[0],\n",
    "    'Planning': np.where(np.isin(trial_state, ['Mem']))[0],\n",
    "    'Movement': np.where(np.isin(trial_state, ['React', 'Go']))[0],\n",
    "    'Hold': np.where(np.isin(trial_state, ['Hold', 'Rew']))[0],\n",
    "    'End': np.where(np.isin(trial_state, ['Intert', 'End']))[0]\n",
    "}\n",
    "\n",
    "new_states = ['Waiting', 'Cue', 'Planning', 'Movement', 'Hold', 'End']\n",
    "for phase in new_states: #important to read them in chronological order\n",
    "    phase_idx = phase_dict[phase]\n",
    "    for idx in phase_idx:\n",
    "        trial_state[idx] = phase\n",
    "        \n",
    "[xmin, xmax] = np.load('../results/online/windows_state_min_max.npy')\n",
    "X = (p_window.astype('float32') - xmin) / (xmax - xmin)"
   ]
  },
  {
   "cell_type": "markdown",
   "id": "31de53cf-c9ab-4ab5-85fa-4b8463d29df8",
   "metadata": {
    "tags": []
   },
   "source": [
    "# STATE"
   ]
  },
  {
   "cell_type": "code",
   "execution_count": 15,
   "id": "02a37cd6-de6c-4e34-a597-355ae0726522",
   "metadata": {
    "scrolled": true
   },
   "outputs": [
    {
     "data": {
      "image/png": "[encoded data removed]",
      "text/plain": [
       "<Figure size 1008x648 with 4 Axes>"
      ]
     },
     "metadata": {
      "needs_background": "light"
     },
     "output_type": "display_data"
    }
   ],
   "source": [
    "#[xmin, xmax] = np.load('../results/online/windows_state_min_max.npy')\n",
    "#X = (p_window.astype('float32') - xmin) / (xmax - xmin)\n",
    "\n",
    "# Predicting\n",
    "prediction = state_model.predict(X)\n",
    "\n",
    "# Metrics\n",
    "conf_matrix, my_labels = my_confusion_matrix(state_encoder.inverse_transform(prediction.argmax(axis=1)), trial_state, labels=new_states, return_labels=True)\n",
    "errors_distribution = distance_from_diagonal(conf_matrix)\n",
    "\n",
    "# Displaying\n",
    "display_testing_phase_results(conf_matrix, my_labels, errors_distribution, trial_state, f'states decoder {WINDOW}', save=False)"
   ]
  },
  {
   "cell_type": "markdown",
   "id": "4aedbbe3-fce1-413f-a3b1-c883e4d57660",
   "metadata": {
    "tags": []
   },
   "source": [
    "# Shape"
   ]
  },
  {
   "cell_type": "code",
   "execution_count": 16,
   "id": "139a28c4-83d3-40da-a4d7-890d5bcdb7f0",
   "metadata": {
    "tags": []
   },
   "outputs": [
    {
     "data": {
      "image/png": "[encoded data removed]",
      "text/plain": [
       "<Figure size 1008x648 with 4 Axes>"
      ]
     },
     "metadata": {
      "needs_background": "light"
     },
     "output_type": "display_data"
    }
   ],
   "source": [
    "#[xmin, xmax] = np.load('../results/online/windows_state_min_max.npy')\n",
    "#X = (p_window.astype('float32') - xmin) / (xmax - xmin)\n",
    "\n",
    "to_keep = np.isin(trial_state, ['Cue', 'Mem', 'React', 'Go'])\n",
    "\n",
    "# Predicting\n",
    "prediction = shape_model.predict(X[to_keep])\n",
    "\n",
    "# Metrics\n",
    "conf_matrix, my_labels = my_confusion_matrix(shape_encoder.inverse_transform(prediction.argmax(axis=1)), obj_shape[to_keep], labels=shape_encoder.classes_, return_labels=True)\n",
    "errors_distribution = distance_from_diagonal(conf_matrix)\n",
    "\n",
    "# Displaying\n",
    "display_testing_phase_results(conf_matrix, my_labels, errors_distribution, obj_shape[to_keep], f'states decoder {WINDOW}', save=False)"
   ]
  },
  {
   "cell_type": "markdown",
   "id": "b4a9f073-6625-4e57-b715-93697236b54f",
   "metadata": {
    "tags": []
   },
   "source": [
    "# Size"
   ]
  },
  {
   "cell_type": "code",
   "execution_count": 17,
   "id": "c1717470-8093-49cd-801c-cfe432a27700",
   "metadata": {
    "tags": []
   },
   "outputs": [
    {
     "data": {
      "image/png": "[encoded data removed]",
      "text/plain": [
       "<Figure size 1008x648 with 4 Axes>"
      ]
     },
     "metadata": {
      "needs_background": "light"
     },
     "output_type": "display_data"
    }
   ],
   "source": [
    "#[xmin, xmax] = np.load('../results/online/windows_size_min_max.npy')\n",
    "#X = (p_window.astype('float32') - xmin) / (xmax - xmin)\n",
    "\n",
    "to_keep = np.isin(trial_state, ['Cue', 'Mem', 'React', 'Go'])\n",
    "\n",
    "# Predicting\n",
    "prediction = size_model.predict(X[to_keep])\n",
    "\n",
    "# Metrics\n",
    "conf_matrix, my_labels = my_confusion_matrix(size_encoder.inverse_transform(prediction.argmax(axis=1)), obj_size[to_keep], labels=size_encoder.classes_, return_labels=True)\n",
    "errors_distribution = distance_from_diagonal(conf_matrix)\n",
    "\n",
    "# Displaying\n",
    "display_testing_phase_results(conf_matrix, my_labels, errors_distribution, obj_size[to_keep], f'states decoder {WINDOW}', save=False)"
   ]
  },
  {
   "cell_type": "code",
   "execution_count": null,
   "id": "f69b824f-eef5-488d-b434-cec4a6dae1ea",
   "metadata": {},
   "outputs": [],
   "source": []
  }
 ],
 "metadata": {
  "kernelspec": {
   "display_name": "Python 3.8 (XPython)",
   "language": "python",
   "name": "xpython"
  },
  "language_info": {
   "file_extension": ".py",
   "mimetype": "text/x-python",
   "name": "python",
   "version": "3.8.10"
  }
 },
 "nbformat": 4,
 "nbformat_minor": 5
}
